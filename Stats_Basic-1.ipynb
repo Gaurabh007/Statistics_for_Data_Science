{
 "cells": [
  {
   "attachments": {},
   "cell_type": "markdown",
   "metadata": {},
   "source": [
    "Q1. What is Statistics?"
   ]
  },
  {
   "attachments": {},
   "cell_type": "markdown",
   "metadata": {},
   "source": [
    "* Statistics is a process of refining all the informative and relavent information from the dataset to the Organization to make Strategic Decision.\n",
    "* Statistics is  the Science of Collecting, Organizing and Analyzing the Data."
   ]
  },
  {
   "attachments": {},
   "cell_type": "markdown",
   "metadata": {},
   "source": [
    "Q2. Define the different types of statistics and give an example of when each type might be used."
   ]
  },
  {
   "attachments": {},
   "cell_type": "markdown",
   "metadata": {},
   "source": [
    "Types of Statistics:-\n",
    "\n",
    "| Descriptive Statistics|Inferential Statistics|\n",
    "|-|-|\n",
    "| Example-Average Speed of Lamborgini Urus? | Example-Are the average speed of Lamborgini Urus similar to what is expect from the Lamborgini Models? |"
   ]
  },
  {
   "attachments": {},
   "cell_type": "markdown",
   "metadata": {},
   "source": [
    "Q3. What are the different types of data and how do they differ from each other? Provide an example of each type of data."
   ]
  },
  {
   "attachments": {},
   "cell_type": "markdown",
   "metadata": {},
   "source": [
    "Different Types of Data:<br>\n",
    "i) Qualitative Data<br>\n",
    "ii) Quantitative Data<br>\n",
    "\n",
    "Difference:-\n",
    "Quantitative Data deals with Numeric Data either Discrete or Continuous where as Qualitative data deal with Categorical Data\n",
    "\n",
    "Examples- \n",
    "Quantitative - Number of Pens: (1,2,3,...) , Height of a Person: (156,123.2,159,147,...)\n",
    "Qualitative - Blood Group: (A-,A+,B-,B+,O-,O+), Marital Status: (Married,UnMarried,Widow)"
   ]
  },
  {
   "attachments": {},
   "cell_type": "markdown",
   "metadata": {},
   "source": [
    "Q4. Categorise the following datasets with respect to quantitative and qualitative data types:<br>\n",
    "(i) Grading in exam: A+, A, B+, B, C+, C, D, E<br>\n",
    "(ii) Colour of mangoes: yellow, green, orange, red<br>\n",
    "(iii) Height data of a class: [178.9, 179, 179.5, 176, 177.2, 178.3, 175.8,...]<br>\n",
    "(iv) Number of mangoes exported by a farm: [500, 600, 478, 672, ...]<br>"
   ]
  },
  {
   "attachments": {},
   "cell_type": "markdown",
   "metadata": {},
   "source": [
    "(i) Qualitative\n",
    "(ii) Qualitative\n",
    "(iii) Quantitative\n",
    "(iv) Quantitative"
   ]
  },
  {
   "attachments": {},
   "cell_type": "markdown",
   "metadata": {},
   "source": [
    "Q5. Explain the concept of levels of measurement and give an example of a variable for each level."
   ]
  },
  {
   "attachments": {},
   "cell_type": "markdown",
   "metadata": {},
   "source": [
    "To Determine the appropiate Statistical test that can be used to interpret the Result.<br>\n",
    "Levels in measurment of Data:<br>\n",
    "(i) Nominal Scale Data\n",
    "(ii) Ordinal Scale Data\n",
    "(iii) Ratio Scale Data\n",
    "(iv) Interval Scale Data"
   ]
  },
  {
   "attachments": {},
   "cell_type": "markdown",
   "metadata": {},
   "source": [
    "Q6. Why is it important to understand the level of measurement when analyzing data? Provide an example to illustrate your answer."
   ]
  },
  {
   "attachments": {},
   "cell_type": "markdown",
   "metadata": {},
   "source": [
    "Level of measurement is important as it determines the type of statistical analysis you can carry out. As a result, it affects both the nature and the depth of insights you’re able to glean from your data.\n",
    "\n",
    "For Example, When we want to review a movie or series we can categorize it with 'good','bad' or 'Satisfactory'."
   ]
  },
  {
   "attachments": {},
   "cell_type": "markdown",
   "metadata": {},
   "source": [
    "Q7. How nominal data type is different from ordinal data type."
   ]
  },
  {
   "attachments": {},
   "cell_type": "markdown",
   "metadata": {},
   "source": [
    "* In Nominal the Ordering is not Important but whereas in Ordinal Ordering matters.\n",
    "* Nominal data consists of Quantitative Data where Ordinal consists of Categorical Data."
   ]
  },
  {
   "attachments": {},
   "cell_type": "markdown",
   "metadata": {},
   "source": [
    "Q8. Which type of plot can be used to display data in terms of range?"
   ]
  },
  {
   "attachments": {},
   "cell_type": "markdown",
   "metadata": {},
   "source": [
    "Histogram plot is used to display the range of data."
   ]
  },
  {
   "attachments": {},
   "cell_type": "markdown",
   "metadata": {},
   "source": [
    "Q9. Describe the difference between descriptive and inferential statistics. Give an example of each type of statistics and explain how they are used."
   ]
  },
  {
   "attachments": {},
   "cell_type": "markdown",
   "metadata": {},
   "source": [
    "| Descriptive Statistics|Inferential Statistics|\n",
    "|-|-|\n",
    "| Its main aim is to Organize and summarize the data | Its main aim is to find out the conclusion form the data. |\n",
    "| Example-Average Speed of Lamborgini Urus? | Example-Are the average speed of Lamborgini Urus similar to what is expect from the Lamborgini Models? |"
   ]
  },
  {
   "attachments": {},
   "cell_type": "markdown",
   "metadata": {},
   "source": [
    "Q10. What are some common measures of central tendency and variability used in statistics? Explain\n",
    "how each measure can be used to describe a dataset."
   ]
  },
  {
   "attachments": {},
   "cell_type": "markdown",
   "metadata": {},
   "source": [
    "Measures of Central Tendency and Variability:\n",
    "1. Mean: Mean is used to find the average from a set of data.\n",
    "2. Mode: Mode is the most commonly value present in a data.\n",
    "3. Median: Median is the middle value present in the dataset.\n",
    "4. Variance: Variance measure the spread between the values in the data. More specifically, it measures how far each value form the mean and from each other number from the data.\n",
    "5. Standard Deviation: It measures the dispersion of a dataset relative to its mean and it is caluculated by the square root of variance."
   ]
  }
 ],
 "metadata": {
  "language_info": {
   "name": "python"
  },
  "orig_nbformat": 4
 },
 "nbformat": 4,
 "nbformat_minor": 2
}
