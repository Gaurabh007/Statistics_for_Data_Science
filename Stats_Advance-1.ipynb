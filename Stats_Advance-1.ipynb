{
 "cells": [
  {
   "attachments": {},
   "cell_type": "markdown",
   "metadata": {},
   "source": [
    "Q1. What is the Probability density function?"
   ]
  },
  {
   "attachments": {},
   "cell_type": "markdown",
   "metadata": {},
   "source": [
    "Probability density function (PDF) define the density of the population that a continuous random variable will lie in particular range of values. We use the PDF in the case of Continuous random variable."
   ]
  },
  {
   "attachments": {},
   "cell_type": "markdown",
   "metadata": {},
   "source": [
    "Q2. What are the types of Probability distribution?"
   ]
  },
  {
   "attachments": {},
   "cell_type": "markdown",
   "metadata": {},
   "source": [
    "Types of Probability Distribution:\n",
    "1. Bernouli Distribution (pmf)\n",
    "2. Binomial Distribution (pmf)\n",
    "3. Normal Distribution (pdf)\n",
    "4. Uniform Distribution \n",
    "5. Poission Distribution (pmf)\n",
    "6. Log Normal Distribution (pdf)\n",
    "7. Power Law Distribution (pdf)"
   ]
  },
  {
   "attachments": {},
   "cell_type": "markdown",
   "metadata": {},
   "source": [
    "Q3. Write a Python function to calculate the probability density function of a normal distribution with given mean and standard deviation at a given point."
   ]
  },
  {
   "cell_type": "code",
   "execution_count": 2,
   "metadata": {},
   "outputs": [
    {
     "data": {
      "text/plain": [
       "0.3659907700780845"
      ]
     },
     "execution_count": 2,
     "metadata": {},
     "output_type": "execute_result"
    }
   ],
   "source": [
    "import numpy as np\n",
    "from scipy.stats import norm \n",
    "\n",
    "data =np.linspace(1,4,11)\n",
    "\n",
    "mean = np.mean(data)\n",
    "std = np.std(data)\n",
    "\n",
    "pdf = norm.pdf(3,loc = mean, scale = std)\n",
    "pdf\n",
    "\n",
    "# for i in range(11):\n",
    "#     print(data[i],\":\",norm.pdf(i,loc = mean, scale = std))"
   ]
  },
  {
   "attachments": {},
   "cell_type": "markdown",
   "metadata": {},
   "source": [
    "Q4. What are the properties of Binomial distribution? Give two examples of events where binomial distribution can be applied."
   ]
  },
  {
   "attachments": {},
   "cell_type": "markdown",
   "metadata": {},
   "source": [
    "Properties of Binomial Distribution:\n",
    "1. There are only two outcome i.e., true/false, yes/no, success/failure\n",
    "2. There is a fixed number of 'n' times repeated trials in a given experiment.\n",
    "3. Each trial is an independent trial on its own, this means that the outcome of one trial has no effect on the outcome of another trials.\n",
    "\n",
    "Examples:\n",
    "1. Tossing a fair coin twice: This is a binomial experiment . There are 4 possible outcomes of this experiment.{HH, TT, HT, TH}.Consider getting one head as the success. count the number of successes in each possible outcome. Here n is the success in n repeated trials of a binomial experiment.\n"
   ]
  },
  {
   "attachments": {},
   "cell_type": "markdown",
   "metadata": {},
   "source": [
    "Q5. Generate a random sample of size 1000 from a binomial distribution with probability of success 0.4 and plot a histogram of the results using matplotlib."
   ]
  },
  {
   "cell_type": "code",
   "execution_count": 3,
   "metadata": {},
   "outputs": [
    {
     "data": {
      "image/png": "[encoded data removed]",
      "text/plain": [
       "<Figure size 640x480 with 1 Axes>"
      ]
     },
     "metadata": {},
     "output_type": "display_data"
    }
   ],
   "source": [
    "import numpy as np\n",
    "import matplotlib.pyplot as plt\n",
    "\n",
    "n=1000\n",
    "p = 0.4\n",
    "\n",
    "b = np.random.binomial(n,p,size=n)\n",
    "\n",
    "plt.hist(b,bins=20, density=True)\n",
    "plt.show()"
   ]
  },
  {
   "attachments": {},
   "cell_type": "markdown",
   "metadata": {},
   "source": [
    "Q6. Write a Python function to calculate the cumulative distribution function of a Poisson distribution with given mean at a given point."
   ]
  },
  {
   "cell_type": "code",
   "execution_count": 4,
   "metadata": {},
   "outputs": [
    {
     "data": {
      "text/plain": [
       "1.0"
      ]
     },
     "execution_count": 4,
     "metadata": {},
     "output_type": "execute_result"
    }
   ],
   "source": [
    "from scipy.stats import poisson\n",
    "\n",
    "d = np.linspace(-4,4,11)\n",
    "\n",
    "m = np.mean(d)\n",
    "\n",
    "cdf = poisson.cdf(2,mu=m,)\n",
    "cdf"
   ]
  },
  {
   "attachments": {},
   "cell_type": "markdown",
   "metadata": {},
   "source": [
    "Q7. How Binomial distribution different from Poisson distribution?"
   ]
  },
  {
   "attachments": {},
   "cell_type": "markdown",
   "metadata": {},
   "source": [
    "The binomial distribution is one, whose possible number of outcomes are two, i.e. success or failure. On the other hand, there is no limit of possible outcomes in Poisson distribution.\n",
    "The success probability is constant in binomial distribution but in poisson distribution, there are an extremely small number of success chances.\n",
    "In binomial distribution Mean > Variance while in poisson distribution mean = variance."
   ]
  },
  {
   "attachments": {},
   "cell_type": "markdown",
   "metadata": {},
   "source": [
    "Q8. Generate a random sample of size 1000 from a Poisson distribution with mean 5 and calculate the sample mean and variance."
   ]
  },
  {
   "cell_type": "code",
   "execution_count": 5,
   "metadata": {},
   "outputs": [
    {
     "name": "stdout",
     "output_type": "stream",
     "text": [
      "Sample Mean: 5.079\n",
      "Variance: 5.436759\n"
     ]
    }
   ],
   "source": [
    "sample = poisson.rvs(mu = 5,size = 1000)\n",
    "smean = np.mean(sample)\n",
    "svar = np.var(sample)\n",
    "\n",
    "print(f\"Sample Mean: {smean}\")\n",
    "print(f\"Variance: {svar}\")\n"
   ]
  },
  {
   "attachments": {},
   "cell_type": "markdown",
   "metadata": {},
   "source": [
    "Q9. How mean and variance are related in Binomial distribution and Poisson distribution?"
   ]
  },
  {
   "attachments": {},
   "cell_type": "markdown",
   "metadata": {},
   "source": [
    " In the binomial distribution, the mean is given by n * p, where n is the number of trials and p is the probability of success in each trial. The variance is given by n * p * (1 - p). Therefore, the mean and variance of a binomial distribution are directly proportional to each other, with the variance being largest when p=0.5.\n",
    "\n",
    "In the Poisson distribution, the mean is also equal to the variance. Therefore, the mean and variance of a Poisson distribution are equal and are directly proportional to each other."
   ]
  },
  {
   "attachments": {},
   "cell_type": "markdown",
   "metadata": {},
   "source": [
    "Q10. In normal distribution with respect to mean position, where does the least frequent data appear?"
   ]
  },
  {
   "attachments": {},
   "cell_type": "markdown",
   "metadata": {},
   "source": [
    "In a normal distribution, the probability density function is symmetric around the mean. Therefore, the least frequent data would appear at the points farthest away from the mean. Specifically, the points where the PDF drops off the most rapidly are located at a distance of one standard deviation from the mean in either direction, and the least frequent data would appear at points that are farther away than that"
   ]
  }
 ],
 "metadata": {
  "kernelspec": {
   "display_name": "Python 3",
   "language": "python",
   "name": "python3"
  },
  "language_info": {
   "codemirror_mode": {
    "name": "ipython",
    "version": 3
   },
   "file_extension": ".py",
   "mimetype": "text/x-python",
   "name": "python",
   "nbconvert_exporter": "python",
   "pygments_lexer": "ipython3",
   "version": "3.11.2"
  },
  "orig_nbformat": 4
 },
 "nbformat": 4,
 "nbformat_minor": 2
}
