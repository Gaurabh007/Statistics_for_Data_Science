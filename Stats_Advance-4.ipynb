{
 "cells": [
  {
   "attachments": {},
   "cell_type": "markdown",
   "metadata": {},
   "source": [
    "**Q1: What is the difference between a t-test and a z-test? Provide an example scenario where you would use each type of test.**"
   ]
  },
  {
   "attachments": {},
   "cell_type": "markdown",
   "metadata": {},
   "source": [
    "Z-Test:\n",
    "\n",
    "A z-test is used when the population standard deviation is known and the sample size is large (typically n > 30). The z-test uses the standard normal distribution and assumes that the population is normally distributed. The z-test is used to test hypotheses about a population mean or proportion, and it calculates a z-score based on the sample data and the null hypothesis.\n",
    "\n",
    "T-Test:\n",
    "\n",
    "A t-test is used when the population standard deviation is unknown or when the sample size is small (typically n < 30). The t-test uses a t-distribution, which is similar to the normal distribution but has heavier tails, and it assumes that the population is normally distributed. The t-test is used to test hypotheses about a population mean and calculates a t-score based on the sample data and the null hypothesis."
   ]
  },
  {
   "attachments": {},
   "cell_type": "markdown",
   "metadata": {},
   "source": [
    "**Q2: Differentiate between one-tailed and two-tailed tests.**"
   ]
  },
  {
   "attachments": {},
   "cell_type": "markdown",
   "metadata": {},
   "source": [
    "One-Tailed Test:\n",
    "\n",
    "In a one-tailed test, the alternative hypothesis is directional, meaning that it specifies whether the population parameter is greater than or less than the null hypothesis value. For example, suppose we want to test whether a new drug increases the average lifespan of patients. The null hypothesis is that the drug does not increase lifespan, and the alternative hypothesis is that the drug increases lifespan. In a one-tailed test, we would specify the direction of the alternative hypothesis as either \"greater than\" or \"less than\" the null hypothesis value. This means we are only interested in one tail of the distribution, either the upper or lower tail.\n",
    "\n",
    "Two-Tailed Test:\n",
    "\n",
    "In a two-tailed test, the alternative hypothesis is non-directional, meaning that it specifies only that the population parameter is different from the null hypothesis value. For example, suppose we want to test whether a coin is fair. The null hypothesis is that the coin is fair, and the alternative hypothesis is that the coin is not fair. In a two-tailed test, we are interested in both tails of the distribution, meaning that we are looking for evidence that the coin is either biased towards heads or biased towards tails."
   ]
  },
  {
   "attachments": {},
   "cell_type": "markdown",
   "metadata": {},
   "source": [
    "**Q3: Explain the concept of Type 1 and Type 2 errors in hypothesis testing. Provide an example scenario for each type of error.**"
   ]
  },
  {
   "attachments": {},
   "cell_type": "markdown",
   "metadata": {},
   "source": [
    "Type 1 Error:\n",
    "A Type 1 error occurs when we reject a null hypothesis that is actually true. In other words, we conclude that there is evidence for the alternative hypothesis when in fact there is not. The probability of making a Type 1 error is denoted by the symbol alpha (α) and is usually set at 0.05 or 0.01. A low alpha level indicates a low probability of making a Type 1 error, but it also increases the probability of making a Type 2 error.\n",
    "\n",
    "For example, let's say we are testing whether a new drug is effective in treating a disease. The null hypothesis is that the drug is not effective, and the alternative hypothesis is that the drug is effective. If we reject the null hypothesis and conclude that the drug is effective, but it is actually not, then we have made a Type 1 error.\n",
    "\n",
    "Type 2 Error:\n",
    "A Type 2 error occurs when we fail to reject a null hypothesis that is actually false. In other words, we conclude that there is not enough evidence for the alternative hypothesis when in fact there is. The probability of making a Type 2 error is denoted by the symbol beta (β) and is influenced by factors such as sample size, effect size, and the level of alpha. A low beta level indicates a low probability of making a Type 2 error, but it also increases the probability of making a Type 1 error.\n",
    "\n",
    "Continuing with our example of testing a new drug, if we fail to reject the null hypothesis and conclude that the drug is not effective, but it actually is, then we have made a Type 2 error."
   ]
  },
  {
   "attachments": {},
   "cell_type": "markdown",
   "metadata": {},
   "source": [
    "\n",
    "**Q4: Explain Bayes's theorem with an example.**\n"
   ]
  },
  {
   "attachments": {},
   "cell_type": "markdown",
   "metadata": {},
   "source": [
    "Bayesian statistics is an approach to data analysis and parameter estimation based on Bayes's theorem.\n",
    "It allows us to calculate the probability of an event A occuring, given some new evidence B, by taking into acccount.\n",
    "The formula for Bayes' theorem is:\n",
    "\n",
    "P(A|B) = P(B|A) * P(A) / P(B)\n",
    "\n",
    "Where:\n",
    "\n",
    "P(A|B) is the probability of event A given that event B has occurred.\n",
    "P(B|A) is the probability of event B given that event A has occurred.\n",
    "P(A) is the prior probability of event A.\n",
    "P(B) is the prior probability of event B.\n",
    "\n",
    "Suppose a certain disease affects 1 in 1000 people. There is a test for this disease that correctly identifies the disease in 99% of cases, but also has a 1% false positive rate. If a person tests positive for the disease, what is the probability that they actually have the disease?\n",
    "\n",
    "Let's use Bayes' theorem to answer this question.\n",
    "\n",
    "Event A: The person has the disease\n",
    "Event B: The person tests positive for the disease\n",
    "We know:\n",
    "\n",
    "P(A) = 0.001 (prior probability of having the disease)\n",
    "P(B|A) = 0.99 (probability of testing positive given that the person has the disease)\n",
    "P(B|~A) = 0.01 (probability of testing positive given that the person does not have the disease)\n",
    "We want to calculate:\n",
    "\n",
    "P(A|B) (probability of having the disease given that the person tests positive)\n",
    "Using Bayes' theorem:\n",
    "\n",
    "P(A|B) = P(B|A) * P(A) / P(B)\n",
    "P(A|B) = 0.99 * 0.001 / ((0.99 * 0.001) + (0.01 * 0.999))\n",
    "P(A|B) = 0.0909 or approximately 9.1%\n",
    "\n",
    "So, if a person tests positive for the disease, there is only a 9.1% chance that they actually have the disease. This is because the probability of a false positive (1%) is much higher than the probability of actually having the disease (0.1%)."
   ]
  },
  {
   "attachments": {},
   "cell_type": "markdown",
   "metadata": {},
   "source": [
    "**Q5: What is a confidence interval? How to calculate the confidence interval, explain with an example.**"
   ]
  },
  {
   "attachments": {},
   "cell_type": "markdown",
   "metadata": {},
   "source": [
    "A confidence interval is a range of values that is used to estimate an unknown population parameter, such as a population mean or proportion, based on a sample of data.\n",
    "A confidence interval gives us a range of values around our estimate that we are reasonably confident contains the true population parameter. The level of confidence associated with a confidence interval represents the percentage of intervals, calculated from different samples of the same size, that would contain the true population parameter.\n"
   ]
  },
  {
   "attachments": {},
   "cell_type": "markdown",
   "metadata": {},
   "source": [
    "**Q6. Use Bayes' Theorem to calculate the probability of an event occurring given prior knowledge of the\n",
    "event's probability and new evidence. Provide a sample problem and solution.**\n"
   ]
  },
  {
   "cell_type": "markdown",
   "metadata": {},
   "source": [
    "Problem:\n",
    "\n",
    "Suppose that a rare disease affects 1% of the population. A medical test has a false positive rate of 5%, meaning that 5% of healthy people will test positive for the disease. The test also has a false negative rate of 1%, meaning that 1% of people who have the disease will test negative. If a person tests positive for the disease, what is the probability that they actually have the disease?\n",
    "\n",
    "Solution:\n",
    "\n",
    "We can use Bayes' Theorem to calculate the probability that a person actually has the disease given that they tested positive. Let D represent the event that a person has the disease, and let T represent the event that a person tests positive for the disease. Then, we want to calculate P(D|T), the probability that a person has the disease given that they tested positive.\n",
    "\n",
    "From the problem, we know that P(D) = 0.01, the probability that a person in the population has the disease. We also know that P(T|D) = 0.99, the probability that a person with the disease tests positive, and P(T|D') = 0.05, the probability that a healthy person tests positive. Note that D' represents the complement of D, or the event that a person does not have the disease.\n",
    "\n",
    "Using Bayes' Theorem, we can write:\n",
    "\n",
    "P(D|T) = P(T|D) * P(D) / P(T)\n",
    "\n",
    "where P(T) is the total probability of testing positive, which can be calculated as:\n",
    "\n",
    "P(T) = P(T|D) * P(D) + P(T|D') * P(D')\n",
    "\n",
    "where P(D') is the probability that a person does not have the disease, which is given by:\n",
    "\n",
    "P(D') = 1 - P(D) = 0.99\n",
    "\n",
    "Substituting in the given probabilities, we get:\n",
    "\n",
    "P(T) = 0.99 * 0.01 + 0.05 * 0.99 = 0.0585\n",
    "\n",
    "Now we can plug in the values to get:\n",
    "\n",
    "P(D|T) = 0.99 * 0.01 / 0.0585 = 0.1684\n",
    "\n",
    "Therefore, the probability that a person actually has the disease given that they tested positive is approximately 16.84%. This result shows that even though the test is 95% accurate (meaning it correctly identifies 95% of people who have the disease), a positive test result does not necessarily mean that a person has the disease."
   ]
  },
  {
   "attachments": {},
   "cell_type": "markdown",
   "metadata": {},
   "source": [
    "**Q7. Calculate the 95% confidence interval for a sample of data with a mean of 50 and a standard deviation\n",
    "of 5. Interpret the results.**"
   ]
  },
  {
   "cell_type": "code",
   "execution_count": null,
   "metadata": {},
   "outputs": [],
   "source": [
    "a = 0.05\n",
    "s_mean = 50\n",
    "std = 5\n",
    "\n"
   ]
  },
  {
   "attachments": {},
   "cell_type": "markdown",
   "metadata": {},
   "source": [
    "**Q8. What is the margin of error in a confidence interval? How does sample size affect the margin of error?\n",
    "Provide an example of a scenario where a larger sample size would result in a smaller margin of error.**"
   ]
  },
  {
   "cell_type": "markdown",
   "metadata": {},
   "source": []
  },
  {
   "attachments": {},
   "cell_type": "markdown",
   "metadata": {},
   "source": [
    "**Q9. Calculate the z-score for a data point with a value of 75, a population mean of 70, and a population\n",
    "standard deviation of 5. Interpret the results.**"
   ]
  },
  {
   "cell_type": "code",
   "execution_count": null,
   "metadata": {},
   "outputs": [],
   "source": []
  },
  {
   "attachments": {},
   "cell_type": "markdown",
   "metadata": {},
   "source": [
    "**Q10. In a study of the effectiveness of a new weight loss drug, a sample of 50 participants lost an average\n",
    "of 6 pounds with a standard deviation of 2.5 pounds. Conduct a hypothesis test to determine if the drug is\n",
    "significantly effective at a 95% confidence level using a t-test.**"
   ]
  },
  {
   "cell_type": "code",
   "execution_count": null,
   "metadata": {},
   "outputs": [],
   "source": []
  },
  {
   "attachments": {},
   "cell_type": "markdown",
   "metadata": {},
   "source": [
    "**Q11. In a survey of 500 people, 65% reported being satisfied with their current job. Calculate the 95% confidence interval for the true proportion of people who are satisfied with their job.**\n"
   ]
  },
  {
   "cell_type": "code",
   "execution_count": null,
   "metadata": {},
   "outputs": [],
   "source": []
  },
  {
   "attachments": {},
   "cell_type": "markdown",
   "metadata": {},
   "source": [
    "**Q12. A researcher is testing the effectiveness of two different teaching methods on student performance. Sample A has a mean score of 85 with a standard deviation of 6, while sample B has a mean score of 82 with a standard deviation of 5. Conduct a hypothesis test to determine if the two teaching methods have a significant difference in student performance using a t-test with a significance level of 0.01.**\n"
   ]
  },
  {
   "cell_type": "code",
   "execution_count": null,
   "metadata": {},
   "outputs": [],
   "source": []
  },
  {
   "attachments": {},
   "cell_type": "markdown",
   "metadata": {},
   "source": [
    "**Q13. A population has a mean of 60 and a standard deviation of 8. A sample of 50 observations has a mean of 65. Calculate the 90% confidence interval for the true population mean.**\n"
   ]
  },
  {
   "cell_type": "code",
   "execution_count": 36,
   "metadata": {},
   "outputs": [
    {
     "name": "stdout",
     "output_type": "stream",
     "text": [
      "Z-Statistics: 4.419417382415922\n",
      "Z-critical: -1.6448536269514729\n",
      "Reject the Null Hypothesis\n"
     ]
    }
   ],
   "source": [
    "from scipy.stats import norm\n",
    "import math\n",
    "population_mean = 60\n",
    "population_std = 8\n",
    "n = 50\n",
    "sample_mean1 =65\n",
    "a = 0.1\n",
    "\n",
    "z_test = (sample_mean1 - population_mean) / (population_std/math.sqrt(n))\n",
    "\n",
    "z_cric = norm.ppf(a/2)\n",
    "\n",
    "print(f\"Z-Statistics: {z_test}\")\n",
    "print(f\"Z-critical: {z_cric}\")\n",
    "\n",
    "if z_test > z_cric:\n",
    "    print(\"Reject the Null Hypothesis\")\n",
    "else:\n",
    "    print(\"Failed to Reject the Null Hypothesis\")"
   ]
  },
  {
   "attachments": {},
   "cell_type": "markdown",
   "metadata": {},
   "source": [
    "**Q14. In a study of the effects of caffeine on reaction time, a sample of 30 participants had an average reaction time of 0.25 seconds with a standard deviation of 0.05 seconds. Conduct a hypothesis test to determine if the caffeine has a significant effect on reaction time at a 90% confidence level using a t-test.**"
   ]
  },
  {
   "cell_type": "code",
   "execution_count": 33,
   "metadata": {},
   "outputs": [
    {
     "name": "stdout",
     "output_type": "stream",
     "text": [
      "t-statistic: 1.0954451150103333\n",
      "Critical t-value: -1.6991270265334977\n",
      "p-value: 0.28233623728606916\n",
      "Reject the null hypothesis: caffeine has a significant effect on reaction time.\n"
     ]
    }
   ],
   "source": [
    "import numpy as np\n",
    "from scipy.stats import t\n",
    "\n",
    "# Define the sample statistics\n",
    "sample_mean = 0.25\n",
    "sample_std = 0.05\n",
    "n = 30\n",
    "\n",
    "# Define the null hypothesis and significance level\n",
    "null_hypothesis = 0.24\n",
    "alpha = 0.1\n",
    "\n",
    "# Calculate the t-statistic\n",
    "t_stat = (sample_mean - null_hypothesis) / (sample_std / np.sqrt(n))\n",
    "\n",
    "# Calculate the degrees of freedom\n",
    "df = n - 1\n",
    "\n",
    "# Calculate the critical t-value\n",
    "t_crit = t.ppf(alpha / 2, df)\n",
    "\n",
    "# Calculate the p-value\n",
    "p_val = (1 - t.cdf(abs(t_stat), df)) * 2\n",
    "\n",
    "# Print the results\n",
    "print(\"t-statistic:\", t_stat)\n",
    "print(\"Critical t-value:\", t_crit)\n",
    "print(\"p-value:\", p_val)\n",
    "\n",
    "# Determine if the null hypothesis should be rejected\n",
    "if abs(t_stat) > t_crit:\n",
    "    print(\"Reject the null hypothesis: caffeine has a significant effect on reaction time.\")\n",
    "else:\n",
    "    print(\"Fail to reject the null hypothesis: caffeine does not have a significant effect on reaction time.\")\n"
   ]
  },
  {
   "cell_type": "code",
   "execution_count": null,
   "metadata": {},
   "outputs": [],
   "source": []
  }
 ],
 "metadata": {
  "kernelspec": {
   "display_name": "Python 3",
   "language": "python",
   "name": "python3"
  },
  "language_info": {
   "codemirror_mode": {
    "name": "ipython",
    "version": 3
   },
   "file_extension": ".py",
   "mimetype": "text/x-python",
   "name": "python",
   "nbconvert_exporter": "python",
   "pygments_lexer": "ipython3",
   "version": "3.11.2"
  },
  "orig_nbformat": 4
 },
 "nbformat": 4,
 "nbformat_minor": 2
}
