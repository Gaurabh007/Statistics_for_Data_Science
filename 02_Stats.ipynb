{
 "cells": [
  {
   "attachments": {},
   "cell_type": "markdown",
   "metadata": {},
   "source": [
    "Q1. What are the three measures of central tendency?"
   ]
  },
  {
   "attachments": {},
   "cell_type": "markdown",
   "metadata": {},
   "source": [
    "Three Measure of Central Tendencies are:\n",
    "1. Mean \n",
    "2. Median\n",
    "3. Mode"
   ]
  },
  {
   "attachments": {},
   "cell_type": "markdown",
   "metadata": {},
   "source": [
    "Q2. What is the difference between the mean, median, and mode? How are they used to measure the\n",
    "central tendency of a dataset?"
   ]
  },
  {
   "attachments": {},
   "cell_type": "markdown",
   "metadata": {},
   "source": [
    "1. Mean - It calculates the average between all the data points in the dataset. If there is any outlier in the dataset the mean value changes drastically.\n",
    "2. Median - It main focus is on the central data points. In case of Median as its focus is on the central element so with the presence of the outlier the median value is not much deviated.\n",
    "3. Mode - It Calculates the Frequency of the maximum occured element.\n",
    "\n",
    "These Central Measure measures the central point where most of the data points are present. They are most likely used in Exploratory Data Analysis and Feature Engineering."
   ]
  },
  {
   "attachments": {},
   "cell_type": "markdown",
   "metadata": {},
   "source": [
    "Q3. Measure the three measures of central tendency for the given height data:\n",
    "[178,177,176,177,178.2,178,175,179,180,175,178.9,176.2,177,172.5,178,176.5]"
   ]
  },
  {
   "cell_type": "code",
   "execution_count": 3,
   "metadata": {},
   "outputs": [
    {
     "name": "stdout",
     "output_type": "stream",
     "text": [
      "Mean:  177.01875\n",
      "Median:  177.0\n",
      "Mode: 178\n"
     ]
    }
   ],
   "source": [
    "import numpy as np\n",
    "import statistics as st\n",
    "data = [178,177,176,177,178.2,178,175,179,180,175,178.9,176.2,177,172.5,178,176.5]\n",
    "print(\"Mean: \",np.mean(data))\n",
    "print(\"Median: \",np.median(data))\n",
    "print(f\"Mode:\",st.mode(data))"
   ]
  },
  {
   "attachments": {},
   "cell_type": "markdown",
   "metadata": {},
   "source": [
    "Q4. Find the standard deviation for the given data:\n",
    "[178,177,176,177,178.2,178,175,179,180,175,178.9,176.2,177,172.5,178,176.5]\n"
   ]
  },
  {
   "cell_type": "code",
   "execution_count": 4,
   "metadata": {},
   "outputs": [
    {
     "name": "stdout",
     "output_type": "stream",
     "text": [
      "Standard Deviation:  1.7885814036548633\n"
     ]
    }
   ],
   "source": [
    "import numpy as np\n",
    "data1 = [178,177,176,177,178.2,178,175,179,180,175,178.9,176.2,177,172.5,178,176.5]\n",
    "stnd = np.std(data1)\n",
    "print(f\"Standard Deviation: \",stnd)"
   ]
  },
  {
   "attachments": {},
   "cell_type": "markdown",
   "metadata": {},
   "source": [
    "Q5. How are measures of dispersion such as range, variance, and standard deviation used to describe the spread of a dataset? Provide an example."
   ]
  },
  {
   "attachments": {},
   "cell_type": "markdown",
   "metadata": {},
   "source": [
    "Measures of dispersion such as range, variance, and standard deviation describe the spread of the data. They provide information about the deviation from the central tendency such as mean or median.\n",
    "\n",
    "Range: It is the difference between the maximum and minimum value of the dataset. It provides the information about the spread of the data.\n",
    "\n",
    "Variance: Variance is required to know the spread of the distribution. It calculates that how much it is deviated form the mean. A distribution with higher variance indicates the larger spread of Data.\n",
    "\n",
    "Standard Deviation: It measures the dispersion of dataset with relative to its mean."
   ]
  },
  {
   "attachments": {},
   "cell_type": "markdown",
   "metadata": {},
   "source": [
    "Q6. What is a Venn diagram?"
   ]
  },
  {
   "attachments": {},
   "cell_type": "markdown",
   "metadata": {},
   "source": [
    "A Venn Diagram is a graphical representation of relationship among sets, it is widely used in Mathematics, Statistics. It consists of overlapping sets which indicates the common data among them.\n",
    "They are useful for computing Union,Intersection, difference and etc."
   ]
  },
  {
   "attachments": {},
   "cell_type": "markdown",
   "metadata": {},
   "source": [
    "Q7. For the two given sets A = (2,3,4,5,6,7) & B = (0,2,6,8,10). Find:\n",
    "(i) $A \\cap B$\n",
    "(ii) $A \\cup B$\n",
    "\n"
   ]
  },
  {
   "cell_type": "code",
   "execution_count": 5,
   "metadata": {},
   "outputs": [
    {
     "name": "stdout",
     "output_type": "stream",
     "text": [
      "A union B: {0, 2, 3, 4, 5, 6, 7, 8, 10}\n",
      "A intersection B: {2, 6}\n"
     ]
    }
   ],
   "source": [
    "A = {2,3,4,5,6,7} \n",
    "B = {0,2,6,8,10}\n",
    "un = A.union(B)\n",
    "inter = A.intersection(B)\n",
    "print(f'A union B:',un)\n",
    "print(f'A intersection B:',inter)"
   ]
  },
  {
   "attachments": {},
   "cell_type": "markdown",
   "metadata": {},
   "source": [
    "Q8. What do you understand about skewness in data?"
   ]
  },
  {
   "attachments": {},
   "cell_type": "markdown",
   "metadata": {},
   "source": [
    "Skewness - It is a metric to understand the type of Data Distribution. It is helpful is understanding that to which distribution the dataset belongs. It is of three types: \n",
    "\n",
    "(i) No skewness - When there is Symmetric Distribution that is 50% of the data on the right side and 50% on the left side of the curve,in such condition mean, median and mode are almost similar.`Mean = Median = Mode` \n",
    "\n",
    "(ii) Right Skewness - When majority of the data is on the left hand side of the distribution and there is a bend on the right hand side. In such case, `Mean > Median > Mode` \n",
    "\n",
    "(iii) Left Skewness -  When majority of the data is on the right hand side of the distribution and there is a bend on the left hand side. In such case, `Mean < Median < Mode` "
   ]
  },
  {
   "attachments": {},
   "cell_type": "markdown",
   "metadata": {},
   "source": [
    "Q9. If a data is right skewed then what will be the position of median with respect to mean?\n"
   ]
  },
  {
   "attachments": {},
   "cell_type": "markdown",
   "metadata": {},
   "source": [
    "In a right skewed data the median will be slight lesser than the mean. As it is right skewed so majority of the data will be on the right side. As a result the mean will be higher than median,which seperates the lower 50% data and the upper 50% data."
   ]
  },
  {
   "attachments": {},
   "cell_type": "markdown",
   "metadata": {},
   "source": [
    "Q10. Explain the difference between covariance and correlation. How are these measures used in\n",
    "statistical analysis?"
   ]
  },
  {
   "attachments": {},
   "cell_type": "markdown",
   "metadata": {},
   "source": [
    "Covariance: **Covariance determines the degree to which two random variables varies.** When two variable moves together in same direction it is positive Covariance and when they move in opposite direction they are negative Covariance.\n",
    "\n",
    "Correlation: **Correlation measures the strength and direction of the two random variables.** It ranges between [-1 to +1], where -1 indicate the negative relation and +1 indicates the positive relation.\n",
    "\n",
    "These measures are used to understand the relationship between two variables.Correlation is used more frequently than covariance as it is standarized and eaiser to interpret."
   ]
  },
  {
   "attachments": {},
   "cell_type": "markdown",
   "metadata": {},
   "source": [
    "Q11. What is the formula for calculating the sample mean? Provide an example calculation for a\n",
    "dataset."
   ]
  },
  {
   "attachments": {},
   "cell_type": "markdown",
   "metadata": {},
   "source": [
    "> Sample Mean = Sum of all observation / Number of Observation"
   ]
  },
  {
   "cell_type": "code",
   "execution_count": 6,
   "metadata": {},
   "outputs": [
    {
     "name": "stdout",
     "output_type": "stream",
     "text": [
      "Sample Mean:  162.2\n"
     ]
    }
   ],
   "source": [
    "weight = [159,179,198,164,111]\n",
    "s_weight = sum(weight)\n",
    "n_weight = len(weight)\n",
    "\n",
    "print(f\"Sample Mean: \",(s_weight/n_weight))"
   ]
  },
  {
   "attachments": {},
   "cell_type": "markdown",
   "metadata": {},
   "source": [
    "Q12. For a normal distribution data what is the relationship between its measure of central tendency?\n"
   ]
  },
  {
   "attachments": {},
   "cell_type": "markdown",
   "metadata": {},
   "source": [
    "For a normal distribution the measure of central tendency i.e., mean,median,mode are almost similar.\n",
    "It is a scenario symmetric distribution where 50% on the left side of the curve,in such condition mean, median and mode are almost similar.`Mean = Median = Mode` \n"
   ]
  },
  {
   "attachments": {},
   "cell_type": "markdown",
   "metadata": {},
   "source": [
    "Q13. How is covariance different from correlation?\n"
   ]
  },
  {
   "attachments": {},
   "cell_type": "markdown",
   "metadata": {},
   "source": [
    "Covariance: **Covariance determines the degree to which two random variables varies.** When two variable moves together in same direction it is positive Covariance and when they move in opposite direction they are negative Covariance.\n",
    "\n",
    "Correlation: **Correlation measures the strength and direction of the two random variables.** It ranges between [-1 to +1], where -1 indicate the negative relation and +1 indicates the positive relation.\n",
    "\n",
    "These measures are used to understand the relationship between two variables.Correlation is used more frequently than covariance as it is standarized and eaiser to interpret."
   ]
  },
  {
   "attachments": {},
   "cell_type": "markdown",
   "metadata": {},
   "source": [
    "Q14. How do outliers affect measures of central tendency and dispersion? Provide an example."
   ]
  },
  {
   "cell_type": "code",
   "execution_count": 7,
   "metadata": {},
   "outputs": [
    {
     "name": "stdout",
     "output_type": "stream",
     "text": [
      "--------Data Without Outlier---------\n",
      "Mean:  85.5\n",
      "Median:  83.0\n",
      "Standard Deviation:  8.2915619758885\n",
      "--------Data With Outlier---------\n",
      "Mean:  108.4\n",
      "Median:  88.0\n",
      "Standard Deviation:  46.396551595996876\n"
     ]
    }
   ],
   "source": [
    "d = [78,88,78,98]\n",
    "dt = [78,88,78,98,200]\n",
    "\n",
    "mean = np.mean(d)\n",
    "mean_o = np.mean(dt)\n",
    "\n",
    "median = np.median(d)\n",
    "median_o = np.median(dt)\n",
    "\n",
    "st = np.std(d)\n",
    "st_o = np.std(dt)\n",
    "\n",
    "print(\"--------Data Without Outlier---------\")\n",
    "print(f\"Mean: \",mean)\n",
    "print(f\"Median: \",median)\n",
    "print(f\"Standard Deviation: \",st)\n",
    "\n",
    "print(\"--------Data With Outlier---------\")\n",
    "print(f\"Mean: \",mean_o)\n",
    "print(f\"Median: \",median_o)\n",
    "print(f\"Standard Deviation: \",st_o)\n",
    "\n",
    "\n"
   ]
  },
  {
   "attachments": {},
   "cell_type": "markdown",
   "metadata": {},
   "source": [
    "From the above code it is clearly depicted that mean and standard deviation with outlier are highly deviated as compared to non-outlier data.\n",
    "\n",
    "The effect of outlier can be clearly visible as the spread of the data is increased because of the outlier."
   ]
  }
 ],
 "metadata": {
  "kernelspec": {
   "display_name": "Python 3",
   "language": "python",
   "name": "python3"
  },
  "language_info": {
   "codemirror_mode": {
    "name": "ipython",
    "version": 3
   },
   "file_extension": ".py",
   "mimetype": "text/x-python",
   "name": "python",
   "nbconvert_exporter": "python",
   "pygments_lexer": "ipython3",
   "version": "3.11.2"
  },
  "orig_nbformat": 4
 },
 "nbformat": 4,
 "nbformat_minor": 2
}
