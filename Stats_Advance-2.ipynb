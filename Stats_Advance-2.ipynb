{
 "cells": [
  {
   "attachments": {},
   "cell_type": "markdown",
   "metadata": {},
   "source": [
    "**Q1: What are the Probability Mass Function (PMF) and Probability Density Function (PDF)? Explain with an example.**"
   ]
  },
  {
   "attachments": {},
   "cell_type": "markdown",
   "metadata": {},
   "source": [
    "Probability mass function (PMF) can be defined as the probability that a discrete random variable will be exactly equal to some particular value. In other words, the probability mass function assigns a particular probability to every possible value of a discrete random variable.\n",
    "\n",
    "Suppose a fair coin is tossed twice and the sample space is recorded as S = [HH, HT, TH, TT]. The probability of getting heads needs to be determined. Let X be the random variable that shows how many heads are obtained. X can take on the values 0, 1, 2. The probability that X will be equal to 1 is 0.5. Thus, it can be said that the probability mass function of X evaluated at 1 will be 0.5.\n",
    "\n",
    "Probability density function (PDF) defines the density of the probability that a continuous random variable will lie within a particular range of values. To determine this probability, we integrate the probability density function between two specified points.\n",
    "\n",
    "Say we have a continuous random variable whose probability density function is given by f(x) = x + 2, when 0 < x ≤ 2. We want to find P(0.5 < X < 1). Then we integrate x + 2 within the limits 0.5 and 1. This gives us 1.375. Thus, the probability that the continuous random variable lies between 0.5 and 1 is 1.375.\n",
    "\n"
   ]
  },
  {
   "attachments": {},
   "cell_type": "markdown",
   "metadata": {},
   "source": [
    "**Q2: What is Cumulative Density Function (CDF)? Explain with an example. Why CDF is used?**"
   ]
  },
  {
   "attachments": {},
   "cell_type": "markdown",
   "metadata": {},
   "source": [
    "The cumulative distribution function (CDF) is used to describe the probability distribution of random variables. It can be used to describe the probability for a discrete, continuous or mixed variable. It is obtained by summing up the probability density function and getting the cumulative probability for a random variable.\n",
    "\n"
   ]
  },
  {
   "attachments": {},
   "cell_type": "markdown",
   "metadata": {},
   "source": [
    "**Q3: What are some examples of situations where the normal distribution might be used as a model?\n",
    "Explain how the parameters of the normal distribution relate to the shape of the distribution.**"
   ]
  },
  {
   "attachments": {},
   "cell_type": "markdown",
   "metadata": {},
   "source": [
    "The normal distribution is a probability distribution that is widely used to model real-world phenomena. It is a continuous probability distribution that is symmetric and bell-shaped, with the highest probability density occurring at the mean value of the distribution.\n",
    "\n",
    "Some examples of situations where the normal distribution might be used as a model include:\n",
    "\n",
    "Heights and weights of a population Test scores in a large population, Blood pressure measurements Errors in measurement . The normal distribution is characterized by two parameters, the mean and the standard deviation. \n",
    "\n",
    "The mean determines the location of the peak of the distribution, while the standard deviation determines the width of the distribution. The larger the standard deviation, the wider the distribution will be. The standard deviation also determines the percentage of values that fall within a certain range of the mean, as specified by the empirical rule.\n",
    "\n",
    "For example, if a normal distribution has a mean of 50 and a standard deviation of 10, approximately 68% of the values will fall within the range of 40 to 60, 95% of the values will fall within the range of 30 to 70, and 99.7% of the values will fall within the range of 20 to 80, according to the empirical rule."
   ]
  },
  {
   "attachments": {},
   "cell_type": "markdown",
   "metadata": {},
   "source": [
    "**Q4: Explain the importance of Normal Distribution. Give a few real-life examples of Normal Distribution.**"
   ]
  },
  {
   "attachments": {},
   "cell_type": "markdown",
   "metadata": {},
   "source": [
    "The normal distribution has the remarkable property stated in the so-called central limit theorem. According to this theorem as the sample size n increase, the distribution or mean, X of a random sample taken from practically any population approaches a normal distribution. Thus, if samples of large size, n, are drawn from a population that is not normally distributed, nevertheless the successive sample means will form themselves distribution that is approximately normal. As the size of the sample is increased the sample means will tend to be normally distributed. The central limit theorem applies to the distribution of most other statistics as well, such as the median and standard deviation (but nor range). The central limit theorem gives the normal distribution its central place in the theory of sampling since many important problems can be solved by this single patter of sampling variability. As a result the work on statistical inferences is made simpler.\n",
    "\n",
    "Real Life Example of Normal Distribution:\n",
    "1. Height of a population\n",
    "2. Blood Pressure of adult human\n",
    "3. A large number of educational measures\n",
    "4. Residual in regression"
   ]
  },
  {
   "attachments": {},
   "cell_type": "markdown",
   "metadata": {},
   "source": [
    "**Q5: What is Bernoulli Distribution? Give an Example. What is the difference between Bernoulli\n",
    "Distribution and Binomial Distribution?**"
   ]
  },
  {
   "attachments": {},
   "cell_type": "markdown",
   "metadata": {},
   "source": [
    "Bernoulli Distribution is a type of discrete probability distribution where every experiment conducted asks a question that can be answered only in yes or no. In other words, the random variable can be 1 with a probability p or it can be 0 with a probability (1 - p). Such an experiment is called a Bernoulli trial. A pass or fail exam can be modeled by a Bernoulli Distribution.\n",
    "\n",
    "Difference:\n",
    "\n",
    "Bernoulli distribution is used when we want to model the outcome of a single trial of an event. On the other hand, If we want to model the outcome of multiple trials of an event, Binomial distribution is used.\n",
    "\n",
    "Bernoulli is represented with only one parameter p which is the probability of success.\n",
    "Binomial is represented with two parameter n and p which is number of trials and probability of success respectively."
   ]
  },
  {
   "attachments": {},
   "cell_type": "markdown",
   "metadata": {},
   "source": [
    "**Q6. Consider a dataset with a mean of 50 and a standard deviation of 10. If we assume that the dataset is normally distributed, what is the probability that a randomly selected observation will be greater than 60? Use the appropriate formula and show your calculations.**"
   ]
  },
  {
   "cell_type": "code",
   "execution_count": 1,
   "metadata": {},
   "outputs": [
    {
     "name": "stdout",
     "output_type": "stream",
     "text": [
      "The probability of getting a value greater than 60 is: 0.15865525393145707\n"
     ]
    }
   ],
   "source": [
    "from scipy.stats import norm\n",
    "\n",
    "mu = 50\n",
    "sigma = 10\n",
    "x = 60 \n",
    "\n",
    "# Calculate the probability using the CDF of the normal distribution\n",
    "prob = 1 - norm.cdf(x, loc=mu, scale=sigma)\n",
    "\n",
    "print(\"The probability of getting a value greater than 60 is:\", prob)"
   ]
  },
  {
   "attachments": {},
   "cell_type": "markdown",
   "metadata": {},
   "source": [
    "**Q7: Explain uniform Distribution with an example.**"
   ]
  },
  {
   "attachments": {},
   "cell_type": "markdown",
   "metadata": {},
   "source": [
    "Uniform Distribution describes an experiment where there is an arbitary outcome that lies between a certain range. These ranges are defined by parameter a and b with minimum and maximum values.\n",
    "\n",
    "An example of a uniform distribution is the roll of a fair die. The die has six faces, each with a value of 1, 2, 3, 4, 5, or 6. When we roll the die, each value has an equal probability of occurring, which is 1/6. Therefore, the range of possible values for a roll of a die is 1 to 6, and the probability density function (PDF) of the roll is uniform over this range.\n",
    "\n",
    "Mathematically, we can define the PDF of a uniform distribution as:\n",
    "\n",
    "f(x) = 1/(b-a) for a <= x <= b f(x) = 0 otherwise\n",
    "\n",
    "where a and b are the minimum and maximum values in the range, respectively.\n",
    "\n",
    "The cumulative distribution function (CDF) of a uniform distribution is:\n",
    "\n",
    "F(x) = 0 for x < a F(x) = (x-a)/(b-a) for a <= x <= b F(x) = 1 for x > b\n",
    "\n",
    "The mean of a uniform distribution is:\n",
    "\n",
    "E(x) = (a+b)/2\n",
    "\n",
    "And the variance of a uniform distribution is:\n",
    "\n",
    "Var(x) = (b-a)^2 / 12\n",
    "\n"
   ]
  },
  {
   "attachments": {},
   "cell_type": "markdown",
   "metadata": {},
   "source": [
    "**Q8: What is the z score? State the importance of the z score.**\n"
   ]
  },
  {
   "attachments": {},
   "cell_type": "markdown",
   "metadata": {},
   "source": [
    "Z-Score is a dimensionless quantity which measures the number of standard deviation a data point is from the mean of a distribution.\n",
    "The formula for calculating the z-score is:\n",
    "\n",
    "z = (x - μ) / σ\n",
    "\n",
    "where x is the data point, μ is the mean of the distribution, and σ is the standard deviation of the distribution.\n",
    "\n",
    "Z - Score is used in Standarizing of data from different distrubution on a same scale. By converting data to z-scores, we can compare data from different populations and see how far a data point is from the mean in terms of standard deviations. "
   ]
  },
  {
   "attachments": {},
   "cell_type": "markdown",
   "metadata": {},
   "source": [
    "**Q9: What is Central Limit Theorem? State the significance of the Central Limit Theorem.**\n"
   ]
  },
  {
   "attachments": {},
   "cell_type": "markdown",
   "metadata": {},
   "source": [
    "The central limit theorem relies on the concept of sampling distribution , which is the probability distribution of a statistics for a Large number of samples taken from a population.\n",
    "\n",
    "It says that the sampling distribution of the mean will always be normally distributed as long as the sample size is large enough, regardless of the population having any distribution, the mean will be normal.\n",
    "\n",
    "The CLT is the basis for statistical inference and hypothesis testing. It allows us to estimate population parameters, such as the population mean or variance, and determine the probability of obtaining a sample mean or proportion."
   ]
  },
  {
   "attachments": {},
   "cell_type": "markdown",
   "metadata": {},
   "source": [
    "**Q10: State the assumptions of the Central Limit Theorem.**"
   ]
  },
  {
   "attachments": {},
   "cell_type": "markdown",
   "metadata": {},
   "source": [
    "Assumption of Central Limit Theorem: \n",
    "\n",
    "Sample Size: The sample size should be large enough. The general rule is that the sample size should be at least 30. If the sample size is less than 30, the population distribution should be normal.\n",
    "\n",
    "Population Distribution: The population distribution can be any distribution, but as the sample size increases, the distribution of the sample means will approach a normal distribution, regardless of the population distribution."
   ]
  }
 ],
 "metadata": {
  "kernelspec": {
   "display_name": "Python 3",
   "language": "python",
   "name": "python3"
  },
  "language_info": {
   "codemirror_mode": {
    "name": "ipython",
    "version": 3
   },
   "file_extension": ".py",
   "mimetype": "text/x-python",
   "name": "python",
   "nbconvert_exporter": "python",
   "pygments_lexer": "ipython3",
   "version": "3.11.2"
  },
  "orig_nbformat": 4
 },
 "nbformat": 4,
 "nbformat_minor": 2
}
