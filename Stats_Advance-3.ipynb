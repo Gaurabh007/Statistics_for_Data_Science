{
 "cells": [
  {
   "attachments": {},
   "cell_type": "markdown",
   "metadata": {},
   "source": [
    "**Q1: What is Estimation Statistics? Explain point estimate and interval estimate.**"
   ]
  },
  {
   "attachments": {},
   "cell_type": "markdown",
   "metadata": {},
   "source": [
    "Estimation statistics is a branch of inferential statistics that involves estimating population parameters (such as means, variances, and proportions) from sample statistics. In other words, it is a method of making generalizations about a population based on a sample of data.\n",
    "\n",
    "The goal of estimation is to use the information obtained from a sample to estimate the unknown population parameter. The most common method used in estimation statistics is point estimation, which involves using a single value (such as the sample mean or sample proportion) as an estimate of the population parameter.\n",
    "\n",
    "Another approach in estimation statistics is interval estimation, which involves using a range of values to estimate the population parameter. This range of values is called a confidence interval and reflects the level of confidence we have in our estimate."
   ]
  },
  {
   "attachments": {},
   "cell_type": "markdown",
   "metadata": {},
   "source": [
    "**Q2. Write a Python function to estimate the population mean using a sample mean and standard\n",
    "deviation.**"
   ]
  },
  {
   "cell_type": "code",
   "execution_count": 5,
   "metadata": {},
   "outputs": [
    {
     "name": "stdout",
     "output_type": "stream",
     "text": [
      "Estimated Population mean: 40.0\n"
     ]
    }
   ],
   "source": [
    "import math\n",
    "\n",
    "def population_estimate(sample_mean,standard_deviation,sample_size):\n",
    "    z_score = 1.96\n",
    "    margin_of_error = z_score * standard_deviation / math.sqrt(sample_size)\n",
    "\n",
    "    lower_bound = sample_mean - margin_of_error \n",
    "    upper_bound = sample_mean + margin_of_error \n",
    "\n",
    "    return (lower_bound + upper_bound)/2\n",
    "\n",
    "\n",
    "n = 40\n",
    "m = 35\n",
    "std = 2\n",
    "estimated_population_mean = population_estimate(n,m,std)\n",
    "print(f\"Estimated Population mean: {estimated_population_mean}\")"
   ]
  },
  {
   "attachments": {},
   "cell_type": "markdown",
   "metadata": {},
   "source": [
    "**Q3: What is Hypothesis testing? Why is it used? State the importance of Hypothesis testing.**"
   ]
  },
  {
   "attachments": {},
   "cell_type": "markdown",
   "metadata": {},
   "source": [
    "Hypothesis testing is a statistical method used to evaluate whether a hypothesis about a population parameter is supported by the available evidence from a sample of data.\n",
    "\n",
    "Hypothesis testing is used in statistics to make decisions based on available evidence and to evaluate the effectiveness of interventions or treatments. It is used to determine whether a hypothesis about a population parameter is supported by the available data.\n",
    "Hypothesis testing is also commonly used in business and industry to evaluate the effectiveness of interventions or treatments. For example, a company may want to test whether a new marketing strategy leads to a significant increase in sales. Hypothesis testing can be used to determine whether the evidence from the data supports the hypothesis that the new marketing strategy is effective.\n",
    "\n",
    "Importance of Hypothesis Testing:\n",
    "1. It allows you to take decision based on the evidance as sample data rather than following some personal opinions.\n",
    "2. It is used to measure the effectivness of interventions such as determing where the estimated solution is enough to solve the problem.\n",
    "3. As Hypothesis follows a structured framework for testing theories and evaluating the evidence for or against them. This helps to ensure that scientific research is rigorous and reliable.\n"
   ]
  },
  {
   "attachments": {},
   "cell_type": "markdown",
   "metadata": {},
   "source": [
    "**Q4. Create a hypothesis that states whether the average weight of male college students is greater than the average weight of female college students.**"
   ]
  },
  {
   "cell_type": "code",
   "execution_count": 1,
   "metadata": {},
   "outputs": [
    {
     "name": "stdout",
     "output_type": "stream",
     "text": [
      "T-test value: -0.14193041508320106\n",
      "P Value: 0.8902613368005659\n",
      "Fail to reject the null hypothesis\n"
     ]
    }
   ],
   "source": [
    "import numpy as np\n",
    "from scipy.stats import ttest_1samp\n",
    "# one tail hypothesis\n",
    "# Null hypothesis -> mean = 70\n",
    "# Alternate Hypothesis -> mean > 70\n",
    "\n",
    "male_weight = np.array([70,78,98,77,65,50,84,63,65,64])\n",
    "\n",
    "t_statistics,p_value = ttest_1samp(male_weight,72)\n",
    "\n",
    "print(f\"T-test value: {t_statistics}\")\n",
    "print(f\"P Value: {p_value}\")\n",
    "\n",
    "if (p_value > 0.05):\n",
    "    print('Fail to reject the null hypothesis')\n",
    "else:\n",
    "    print('Reject the Null Hypothesis' )\n"
   ]
  },
  {
   "attachments": {},
   "cell_type": "markdown",
   "metadata": {},
   "source": [
    "**Q5. Write a Python script to conduct a hypothesis test on the difference between two population means, given a sample from each population.**"
   ]
  },
  {
   "cell_type": "markdown",
   "metadata": {},
   "source": []
  },
  {
   "attachments": {},
   "cell_type": "markdown",
   "metadata": {},
   "source": [
    "**Q6: What is a null and alternative hypothesis? Give some examples.**\n"
   ]
  },
  {
   "attachments": {},
   "cell_type": "markdown",
   "metadata": {},
   "source": [
    "**Null Hypothesis:** It is the initial assumption for evaluating the strength of the evidence. We assume some statement at the start of hypothesis and throughout the process we test whether to accept or reject the Null Hypothesis.\n",
    "\n",
    "**Alternate Hypothesis:** It is the inverse of Null Hypothesis.The alternative hypothesis is usually what researchers are trying to prove or find evidence for in their study.The alternative hypothesis is important because it provides a way to evaluate the evidence in favor of the hypothesis being tested. Researchers seek to reject the null hypothesis in favor of the alternative hypothesis if there is sufficient evidence to support it.\n",
    "\n",
    "**Example:**\n",
    "For example, suppose we want to test whether a new drug is effective in treating a certain disease. The null hypothesis in this case would be that there is no significant difference in the effectiveness of the new drug and a placebo. The alternative hypothesis would be that the new drug is more effective than the placebo."
   ]
  },
  {
   "attachments": {},
   "cell_type": "markdown",
   "metadata": {},
   "source": [
    "**Q7: Write down the steps involved in hypothesis testing.**\n"
   ]
  },
  {
   "attachments": {},
   "cell_type": "markdown",
   "metadata": {},
   "source": [
    "**The hypothesis testing process typically involves the following steps:**\n",
    "\n",
    "1. State the null and alternative hypotheses\n",
    "2. Choose an appropriate test statistic that measures the difference between the sample data and the null hypothesis\n",
    "3. Determine the probability (p-value) of observing the test statistic or a more extreme value if the null hypothesis is true\n",
    "4. Compare the p-value to a significance level (α) chosen by the researcher\n",
    "5. If the p-value is less than or equal to the significance level, reject the null hypothesis in favor of the alternative hypothesis. Otherwise, fail to reject the null hypothesis."
   ]
  },
  {
   "attachments": {},
   "cell_type": "markdown",
   "metadata": {},
   "source": [
    "**Q8. Define p-value and explain its significance in hypothesis testing.**\n"
   ]
  },
  {
   "attachments": {},
   "cell_type": "markdown",
   "metadata": {},
   "source": [
    "A p-value is a number calculated from a statistical test that describes how likely you are to have found a particular set of observation if the null hypothesis were true.\n",
    "\n",
    "**Significance of Hypothesis Testing:**\n",
    "The significance of the p-value in hypothesis testing is that it provides a way to quantify the strength of evidence against the null hypothesis. A small p-value indicates strong evidence against the null hypothesis, while a large p-value indicates weak evidence against the null hypothesis.\n",
    "\n",
    "In general, a significance level (often denoted by α) is chosen before conducting a hypothesis test, and if the p-value is less than the significance level, the null hypothesis is rejected in favor of the alternative hypothesis. A commonly used significance level is α=0.05, which means that we are willing to accept a 5% chance of rejecting the null hypothesis when it is actually true."
   ]
  },
  {
   "attachments": {},
   "cell_type": "markdown",
   "metadata": {},
   "source": [
    "**Q9. Generate a Student's t-distribution plot using Python's matplotlib library, with the degrees of freedom parameter set to 10.**"
   ]
  },
  {
   "cell_type": "code",
   "execution_count": 2,
   "metadata": {},
   "outputs": [
    {
     "data": {
      "image/png": "[encoded data removed]",
      "text/plain": [
       "<Figure size 640x480 with 1 Axes>"
      ]
     },
     "metadata": {},
     "output_type": "display_data"
    }
   ],
   "source": [
    "import numpy as np\n",
    "from scipy.stats import t\n",
    "import matplotlib.pyplot as plt\n",
    "\n",
    "dof = 10\n",
    "data = np.linspace(-4,4,1000)\n",
    "\n",
    "pdf = t.pdf(data,dof)\n",
    "\n",
    "\n",
    "plt.plot(data,pdf)\n",
    "plt.ylabel('Probability density')\n",
    "plt.xlabel('Data Elements')\n",
    "plt.show()"
   ]
  },
  {
   "attachments": {},
   "cell_type": "markdown",
   "metadata": {},
   "source": [
    "**Q10. Write a Python program to calculate the two-sample t-test for independent samples, given two random samples of equal size and a null hypothesis that the population means are equal.**"
   ]
  },
  {
   "cell_type": "code",
   "execution_count": 4,
   "metadata": {},
   "outputs": [
    {
     "name": "stdout",
     "output_type": "stream",
     "text": [
      "Sample Mean of X: 9.80531317801024\n",
      "Sample Mean of Y: 9.808302061746561\n",
      "Fail to reject the Null Hypothesis\n"
     ]
    }
   ],
   "source": [
    "import numpy as np\n",
    "from scipy.stats import ttest_ind\n",
    "\n",
    "# Generating random samples\n",
    "X = np.random.normal(loc=10, size=100, scale=2)     #mean,sample_size,standard_deviation\n",
    "Y = np.random.normal(loc=10, size=100, scale=2)\n",
    "\n",
    "t_stat, p_val = ttest_ind(X, Y)\n",
    "\n",
    "print(f\"Sample Mean of X: {np.mean(X)}\")\n",
    "print(f\"Sample Mean of Y: {np.mean(Y)}\")\n",
    "\n",
    "alpha = 0.05\n",
    "\n",
    "if (p_val > alpha):\n",
    "    print(\"Fail to reject the Null Hypothesis\")\n",
    "else:\n",
    "    print(\"Reject the null Hypothesis\")\n"
   ]
  },
  {
   "attachments": {},
   "cell_type": "markdown",
   "metadata": {},
   "source": [
    "**Q11: What is Student’s t distribution? When to use the t-Distribution.**"
   ]
  },
  {
   "attachments": {},
   "cell_type": "markdown",
   "metadata": {},
   "source": [
    "The Student's t-distribution is a probability distribution that arises in statistics when the population standard deviation is unknown and must be estimated from the sample data.The t-distribution is similar in shape to the normal distribution, but with heavier tails. It is parameterized by the degrees of freedom parameter, which determines the shape of the distribution. The degrees of freedom depend on the sample size and represent the number of independent observations used to estimate the population standard deviation.\n",
    "\n",
    "The t-distribution is commonly used in hypothesis testing, particularly when the sample size is small or the population standard deviation is unknown. It is used to calculate confidence intervals, conduct two-sample t-tests, and perform other statistical analyses."
   ]
  },
  {
   "attachments": {},
   "cell_type": "markdown",
   "metadata": {},
   "source": [
    "**Q12: What is t-statistic? State the formula for t-statistic.**"
   ]
  },
  {
   "attachments": {},
   "cell_type": "markdown",
   "metadata": {},
   "source": [
    "In statistics, the t-statistic (also known as the t-value or test statistic) is a standardized value that is calculated as the difference between an observed sample mean and a hypothesized population mean, divided by the standard error of the sample mean. It is commonly used in hypothesis testing to determine whether the difference between two groups is statistically significant.\n",
    "\n",
    "The formula for the t-statistic is:\n",
    "\n",
    "t = (x̄ - μ) / (s / sqrt(n))"
   ]
  },
  {
   "attachments": {},
   "cell_type": "markdown",
   "metadata": {},
   "source": [
    "**Q13. A coffee shop owner wants to estimate the average daily revenue for their shop. They take a random sample of 50 days and find the sample mean revenue to be $500 with a standard deviation of $50.\n",
    "Estimate the population mean revenue with a 95% confidence interval.**\n"
   ]
  },
  {
   "cell_type": "code",
   "execution_count": 11,
   "metadata": {},
   "outputs": [
    {
     "name": "stdout",
     "output_type": "stream",
     "text": [
      "Population mean with 95% confidence interval is: 498.2216,501.7784\n"
     ]
    }
   ],
   "source": [
    "import math\n",
    "from scipy.stats import t\n",
    "\n",
    "sample_size = 50\n",
    "sample_mean = 500\n",
    "standard_deviation = 50\n",
    "\n",
    "t_val = t.pdf(0.95,df=49)\n",
    "\n",
    "std_err = standard_deviation / math.sqrt(sample_size)\n",
    "\n",
    "l_bound = sample_mean - t_val * std_err\n",
    "u_bound = sample_mean + t_val * std_err\n",
    "\n",
    "print(f\"Population mean with 95% confidence interval is: {round(l_bound,4)},{round(u_bound,4)}\")\n"
   ]
  },
  {
   "attachments": {},
   "cell_type": "markdown",
   "metadata": {},
   "source": [
    "**Q14. A researcher hypothesizes that a new drug will decrease blood pressure by 10 mmHg. They conduct a clinical trial with 100 patients and find that the sample mean decrease in blood pressure is 8 mmHg with a standard deviation of 3 mmHg. Test the hypothesis with a significance level of 0.05.**"
   ]
  },
  {
   "cell_type": "code",
   "execution_count": 17,
   "metadata": {},
   "outputs": [
    {
     "name": "stdout",
     "output_type": "stream",
     "text": [
      "-6.6667\n",
      "0.3974\n",
      "Reject the Null Hypothesis\n"
     ]
    }
   ],
   "source": [
    "import math\n",
    "from scipy.stats import t\n",
    "s_size = 100\n",
    "s_mean = 8\n",
    "std_dev = 3\n",
    "a = 0.05\n",
    "hypo_mean = 10\n",
    "\n",
    "t_st = (s_mean - hypo_mean)/(std_dev/math.sqrt(s_size))\n",
    "\n",
    "ddof = s_size - 1\n",
    "t_crit = t.pdf(a,ddof)\n",
    "\n",
    "print(f'{round(t_st,4)}\\n{round(t_crit,4)}')\n",
    "if t_st < t_crit:\n",
    "    print(\"Reject the Null Hypothesis\")\n",
    "else:\n",
    "    print(\"Failed to Reject the Null Hypothesis\")"
   ]
  },
  {
   "attachments": {},
   "cell_type": "markdown",
   "metadata": {},
   "source": [
    "**Q15. An electronics company produces a certain type of product with a mean weight of 5 pounds and a standard deviation of 0.5 pounds. A random sample of 25 products is taken, and the sample mean weight is found to be 4.8 pounds. Test the hypothesis that the true mean weight of the products is less than 5 pounds with a significance level of 0.01.**"
   ]
  },
  {
   "cell_type": "code",
   "execution_count": 34,
   "metadata": {},
   "outputs": [
    {
     "name": "stdout",
     "output_type": "stream",
     "text": [
      "Failed to Reject the Null Hypothesis\n",
      "-2.0000000000000018\n",
      "0.02846992496829572\n"
     ]
    }
   ],
   "source": [
    "import math\n",
    "from scipy.stats import t\n",
    "p_mean = 5\n",
    "p_std_dev = 0.5\n",
    "_n = 25\n",
    "s_m = 4.8\n",
    "alp = 0.01\n",
    "\n",
    "t_s = (s_m - p_mean) / (p_std_dev/math.sqrt(_n))\n",
    "\n",
    "doff = _n - 1\n",
    "\n",
    "p = t.cdf(t_s,doff)\n",
    "if p < alp:\n",
    "    print(\"Reject the Null Hypothesis\")\n",
    "else:\n",
    "    print(\"Failed to Reject the Null Hypothesis\")\n",
    "\n",
    "print(t_s)\n",
    "print(p)"
   ]
  },
  {
   "attachments": {},
   "cell_type": "markdown",
   "metadata": {},
   "source": [
    "**Q16. Two groups of students are given different study materials to prepare for a test. The first group (n1 = 30) has a mean score of 80 with a standard deviation of 10, and the second group (n2 = 40) has a mean score of 75 with a standard deviation of 8. Test the hypothesis that the population means for the two groups are equal with a significance level of 0.01.**"
   ]
  },
  {
   "cell_type": "code",
   "execution_count": 35,
   "metadata": {},
   "outputs": [
    {
     "name": "stdout",
     "output_type": "stream",
     "text": [
      "t-statistic: 2.323967729699292\n",
      "p-value: 0.02312301341372599\n",
      "Fail to reject null hypothesis\n"
     ]
    }
   ],
   "source": [
    "import scipy.stats as stats\n",
    "\n",
    "# Define the sample statistics\n",
    "n1 = 30\n",
    "mean1 = 80\n",
    "std1 = 10\n",
    "\n",
    "n2 = 40\n",
    "mean2 = 75\n",
    "std2 = 8\n",
    "\n",
    "# Calculate the t-statistic and p-value\n",
    "t, p = stats.ttest_ind_from_stats(mean1, std1, n1, mean2, std2, n2)\n",
    "\n",
    "# Print the results\n",
    "print(\"t-statistic:\", t)\n",
    "print(\"p-value:\", p)\n",
    "\n",
    "# Check if the p-value is less than the significance level\n",
    "alpha = 0.01\n",
    "if p < alpha:\n",
    "    print(\"Reject null hypothesis\")\n",
    "else:\n",
    "    print(\"Fail to reject null hypothesis\")"
   ]
  },
  {
   "attachments": {},
   "cell_type": "markdown",
   "metadata": {},
   "source": [
    "**Q17. A marketing company wants to estimate the average number of ads watched by viewers during a TV program. They take a random sample of 50 viewers and find that the sample mean is 4 with a standard deviation of 1.5. Estimate the population mean with a 99% confidence interval.**"
   ]
  },
  {
   "cell_type": "code",
   "execution_count": 36,
   "metadata": {},
   "outputs": [
    {
     "name": "stdout",
     "output_type": "stream",
     "text": [
      "The population mean with a 99% confidence interval is between 3.43 and 4.57\n"
     ]
    }
   ],
   "source": [
    "import scipy.stats as stats\n",
    "import math\n",
    "\n",
    "sample_mean = 4\n",
    "sample_std = 1.5\n",
    "n = 50\n",
    "alpha = 0.01\n",
    "\n",
    "# Calculate the standard error\n",
    "se = sample_std / math.sqrt(n)\n",
    "\n",
    "# Calculate the t-score for a 99% confidence level with (n-1) degrees of freedom\n",
    "t = stats.t.ppf(1 - alpha/2, n-1)\n",
    "\n",
    "# Calculate the margin of error\n",
    "me = t * se\n",
    "\n",
    "# Calculate the confidence interval\n",
    "lower_ci = sample_mean - me\n",
    "upper_ci = sample_mean + me\n",
    "\n",
    "# Print the results\n",
    "print(\"The population mean with a 99% confidence interval is between\", round(lower_ci, 2), \"and\", round(upper_ci, 2))\n"
   ]
  }
 ],
 "metadata": {
  "kernelspec": {
   "display_name": "Python 3",
   "language": "python",
   "name": "python3"
  },
  "language_info": {
   "codemirror_mode": {
    "name": "ipython",
    "version": 3
   },
   "file_extension": ".py",
   "mimetype": "text/x-python",
   "name": "python",
   "nbconvert_exporter": "python",
   "pygments_lexer": "ipython3",
   "version": "3.11.2"
  },
  "orig_nbformat": 4
 },
 "nbformat": 4,
 "nbformat_minor": 2
}
